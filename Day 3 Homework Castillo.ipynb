{
 "cells": [
  {
   "cell_type": "code",
   "execution_count": 8,
   "metadata": {},
   "outputs": [
    {
     "name": "stdout",
     "output_type": "stream",
     "text": [
      "100 is not a prime number\n"
     ]
    }
   ],
   "source": [
    "# Prime Number Checker\n",
    "\n",
    "num = 100\n",
    "\n",
    "if num > 1:\n",
    "    for i in range(2, num//2):\n",
    "        if(num%1) == 0:\n",
    "            print(num, \"is not a prime number\")\n",
    "            break\n",
    "        else:\n",
    "            print(num, \"is a prime number\")\n",
    "else:\n",
    "    print(num, \"is not a prime number\")"
   ]
  },
  {
   "cell_type": "code",
   "execution_count": 11,
   "metadata": {},
   "outputs": [
    {
     "name": "stdout",
     "output_type": "stream",
     "text": [
      "No\n"
     ]
    }
   ],
   "source": [
    "# Palindrome Checker\n",
    "\n",
    "def reverse(thing):\n",
    "    return thing[::-1]\n",
    "\n",
    "def isPalindrome(thing):\n",
    "    rev = reverse(thing)\n",
    "    if (thing == rev):\n",
    "        return True\n",
    "    return False\n",
    "\n",
    "thing = \"988\"\n",
    "ans = isPalindrome(thing)\n",
    "\n",
    "if ans == 1:\n",
    "    print(\"Yes\")\n",
    "else:\n",
    "    print(\"No\")"
   ]
  },
  {
   "cell_type": "code",
   "execution_count": 13,
   "metadata": {},
   "outputs": [
    {
     "name": "stdout",
     "output_type": "stream",
     "text": [
      "31875000\n"
     ]
    }
   ],
   "source": [
    "# Project Euler (Problem 9)\n",
    "\n",
    "def compute():\n",
    "    product = 1000\n",
    "    for a in range(1, product + 1):\n",
    "        for b in range (a + 1, product + 1):\n",
    "            c = product - a - b\n",
    "            if a * a + b * b == c * c:\n",
    "                return str(a * b * c)\n",
    "            \n",
    "if __name__ == \"__main__\":\n",
    "    print(compute())"
   ]
  },
  {
   "cell_type": "code",
   "execution_count": 14,
   "metadata": {},
   "outputs": [
    {
     "name": "stdout",
     "output_type": "stream",
     "text": [
      "906609\n"
     ]
    }
   ],
   "source": [
    "# Project Euler (Problem 4)\n",
    "\n",
    "def find_palindrome():\n",
    "    all_palindromes = (i * j\n",
    "                      for i in reversed(range(100, 1000))\n",
    "                      for j in reversed(range(100, 1000))\n",
    "                      if str(i * j) == str(i * j)[::-1]\n",
    "                      )\n",
    "    return max(all_palindromes)\n",
    "\n",
    "result = find_palindrome()\n",
    "print(result)"
   ]
  },
  {
   "cell_type": "code",
   "execution_count": null,
   "metadata": {},
   "outputs": [],
   "source": []
  }
 ],
 "metadata": {
  "kernelspec": {
   "display_name": "Python 3",
   "language": "python",
   "name": "python3"
  },
  "language_info": {
   "codemirror_mode": {
    "name": "ipython",
    "version": 3
   },
   "file_extension": ".py",
   "mimetype": "text/x-python",
   "name": "python",
   "nbconvert_exporter": "python",
   "pygments_lexer": "ipython3",
   "version": "3.7.4"
  }
 },
 "nbformat": 4,
 "nbformat_minor": 2
}
