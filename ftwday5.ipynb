{
 "cells": [
  {
   "cell_type": "code",
   "execution_count": 39,
   "metadata": {},
   "outputs": [],
   "source": [
    "import pandas as pd\n",
    "from pandas.plotting import scatter_matrix\n",
    "from scipy.stats import gaussian_kde\n",
    "import numpy as np\n",
    "from scipy import stats\n",
    "import sklearn as sk\n",
    "import itertools\n",
    "import matplotlib.pyplot as plt\n",
    "import matplotlib.mlab as mlab\n",
    "import seaborn as sns\n",
    "import warnings\n",
    "warnings.filterwarnings('ignore')\n",
    "sns.set(style = 'whitegrid', context = 'notebook', palette = 'deep')\n",
    "\n",
    "from sklearn.model_selection import KFold\n",
    "from sklearn.model_selection import train_test_split\n",
    "from sklearn.preprocessing import scale\n",
    "from sklearn.preprocessing import StandardScaler\n",
    "from sklearn.linear_model import Ridge, RidgeCV, Lasso, LassoCV\n",
    "from sklearn.ensemble import RandomForestRegressor\n",
    "from sklearn import metrics\n",
    "from sklearn.metrics import mean_squared_error\n",
    "from sklearn.model_selection import cross_val_score\n",
    "from sklearn.metrics import accuracy_score"
   ]
  },
  {
   "cell_type": "code",
   "execution_count": 40,
   "metadata": {},
   "outputs": [],
   "source": [
    "data = pd.read_csv('/Users/alyssa/Documents/FTW/Day_5/LAB/nyc-rolling-sales.csv')"
   ]
  },
  {
   "cell_type": "code",
   "execution_count": 82,
   "metadata": {},
   "outputs": [],
   "source": [
    "price = 'SALE PRICE'\n",
    "gross = 'GROSS SQUARE FEET'\n",
    "land = 'LAND SQUARE FEET'\n",
    "date = 'SALE DATE'\n",
    "built = 'YEAR BUILT'\n",
    "age = 'AGE OF BUILDING'\n",
    "residential = 'RESIDENTIAL UNITS'\n",
    "build_class = 'BUILDING CLASS CATEGORY'\n",
    "total = 'TOTAL UNITS'\n",
    "commercial = 'COMMERCIAL UNITS'\n",
    "zip_code = 'ZIP CODE'"
   ]
  },
  {
   "cell_type": "code",
   "execution_count": 81,
   "metadata": {},
   "outputs": [
    {
     "data": {
      "text/plain": [
       "Index(['Unnamed: 0', 'NEIGHBORHOOD', 'TAX CLASS AT PRESENT', 'BLOCK', 'LOT',\n",
       "       'EASE-MENT', 'BUILDING CLASS AT PRESENT', 'ADDRESS', 'APARTMENT NUMBER',\n",
       "       'ZIP CODE', 'RESIDENTIAL UNITS', 'COMMERCIAL UNITS', 'TOTAL UNITS',\n",
       "       'LAND SQUARE FEET', 'GROSS SQUARE FEET', 'YEAR BUILT',\n",
       "       'TAX CLASS AT TIME OF SALE', 'BUILDING CLASS AT TIME OF SALE',\n",
       "       'SALE PRICE', 'SALE DATE', 'AGE OF BUILDING', 'BOROUGH_Bronx',\n",
       "       'BOROUGH_Brooklyn', 'BOROUGH_Manhattan', 'BOROUGH_Queens',\n",
       "       'BOROUGH_Staten Island',\n",
       "       'BUILDING CLASS CATEGORY_01 ONE FAMILY DWELLINGS                    ',\n",
       "       'BUILDING CLASS CATEGORY_02 TWO FAMILY DWELLINGS                    ',\n",
       "       'BUILDING CLASS CATEGORY_03 THREE FAMILY DWELLINGS                  ',\n",
       "       'BUILDING CLASS CATEGORY_04 TAX CLASS 1 CONDOS                      ',\n",
       "       'BUILDING CLASS CATEGORY_05 TAX CLASS 1 VACANT LAND                 ',\n",
       "       'BUILDING CLASS CATEGORY_06 TAX CLASS 1 - OTHER                     ',\n",
       "       'BUILDING CLASS CATEGORY_07 RENTALS - WALKUP APARTMENTS             ',\n",
       "       'BUILDING CLASS CATEGORY_08 RENTALS - ELEVATOR APARTMENTS           ',\n",
       "       'BUILDING CLASS CATEGORY_09 COOPS - WALKUP APARTMENTS               ',\n",
       "       'BUILDING CLASS CATEGORY_10 COOPS - ELEVATOR APARTMENTS             ',\n",
       "       'BUILDING CLASS CATEGORY_11A CONDO-RENTALS                           ',\n",
       "       'BUILDING CLASS CATEGORY_12 CONDOS - WALKUP APARTMENTS              ',\n",
       "       'BUILDING CLASS CATEGORY_13 CONDOS - ELEVATOR APARTMENTS            ',\n",
       "       'BUILDING CLASS CATEGORY_14 RENTALS - 4-10 UNIT                     ',\n",
       "       'BUILDING CLASS CATEGORY_15 CONDOS - 2-10 UNIT RESIDENTIAL          ',\n",
       "       'BUILDING CLASS CATEGORY_16 CONDOS - 2-10 UNIT WITH COMMERCIAL UNIT ',\n",
       "       'BUILDING CLASS CATEGORY_21 OFFICE BUILDINGS                        ',\n",
       "       'BUILDING CLASS CATEGORY_22 STORE BUILDINGS                         ',\n",
       "       'BUILDING CLASS CATEGORY_23 LOFT BUILDINGS                          ',\n",
       "       'BUILDING CLASS CATEGORY_26 OTHER HOTELS                            ',\n",
       "       'BUILDING CLASS CATEGORY_27 FACTORIES                               ',\n",
       "       'BUILDING CLASS CATEGORY_28 COMMERCIAL CONDOS                       ',\n",
       "       'BUILDING CLASS CATEGORY_29 COMMERCIAL GARAGES                      ',\n",
       "       'BUILDING CLASS CATEGORY_30 WAREHOUSES                              ',\n",
       "       'BUILDING CLASS CATEGORY_31 COMMERCIAL VACANT LAND                  ',\n",
       "       'BUILDING CLASS CATEGORY_32 HOSPITAL AND HEALTH FACILITIES          ',\n",
       "       'BUILDING CLASS CATEGORY_33 EDUCATIONAL FACILITIES                  ',\n",
       "       'BUILDING CLASS CATEGORY_35 INDOOR PUBLIC AND CULTURAL FACILITIES   ',\n",
       "       'BUILDING CLASS CATEGORY_37 RELIGIOUS FACILITIES                    ',\n",
       "       'BUILDING CLASS CATEGORY_38 ASYLUMS AND HOMES                       ',\n",
       "       'BUILDING CLASS CATEGORY_41 TAX CLASS 4 - OTHER                     '],\n",
       "      dtype='object')"
      ]
     },
     "execution_count": 81,
     "metadata": {},
     "output_type": "execute_result"
    }
   ],
   "source": [
    "data.columns"
   ]
  },
  {
   "cell_type": "code",
   "execution_count": 42,
   "metadata": {},
   "outputs": [
    {
     "name": "stdout",
     "output_type": "stream",
     "text": [
      "<class 'pandas.core.frame.DataFrame'>\n",
      "RangeIndex: 84548 entries, 0 to 84547\n",
      "Data columns (total 22 columns):\n",
      "Unnamed: 0                        84548 non-null int64\n",
      "BOROUGH                           84548 non-null int64\n",
      "NEIGHBORHOOD                      84548 non-null object\n",
      "BUILDING CLASS CATEGORY           84548 non-null object\n",
      "TAX CLASS AT PRESENT              84548 non-null object\n",
      "BLOCK                             84548 non-null int64\n",
      "LOT                               84548 non-null int64\n",
      "EASE-MENT                         84548 non-null object\n",
      "BUILDING CLASS AT PRESENT         84548 non-null object\n",
      "ADDRESS                           84548 non-null object\n",
      "APARTMENT NUMBER                  84548 non-null object\n",
      "ZIP CODE                          84548 non-null int64\n",
      "RESIDENTIAL UNITS                 84548 non-null int64\n",
      "COMMERCIAL UNITS                  84548 non-null int64\n",
      "TOTAL UNITS                       84548 non-null int64\n",
      "LAND SQUARE FEET                  84548 non-null object\n",
      "GROSS SQUARE FEET                 84548 non-null object\n",
      "YEAR BUILT                        84548 non-null int64\n",
      "TAX CLASS AT TIME OF SALE         84548 non-null int64\n",
      "BUILDING CLASS AT TIME OF SALE    84548 non-null object\n",
      "SALE PRICE                        84548 non-null object\n",
      "SALE DATE                         84548 non-null object\n",
      "dtypes: int64(10), object(12)\n",
      "memory usage: 14.2+ MB\n"
     ]
    }
   ],
   "source": [
    "data.info()"
   ]
  },
  {
   "cell_type": "code",
   "execution_count": 43,
   "metadata": {},
   "outputs": [],
   "source": [
    "data[location] = data[location].replace({1: 'Manhattan', 2: 'Bronx', 3: 'Brooklyn', 4: 'Queens', 5: 'Staten Island'})"
   ]
  },
  {
   "cell_type": "code",
   "execution_count": 44,
   "metadata": {},
   "outputs": [],
   "source": [
    "data[price] = pd.to_numeric(data[price], errors = 'coerce')\n",
    "data[gross] = pd.to_numeric(data[gross], errors = 'coerce')\n",
    "data[land] = pd.to_numeric(data[land], errors = 'coerce')\n",
    "data[date] = pd.to_datetime(data[date], errors = 'coerce')"
   ]
  },
  {
   "cell_type": "code",
   "execution_count": 45,
   "metadata": {},
   "outputs": [],
   "source": [
    "data = data.drop_duplicates(data.columns, keep = 'last')"
   ]
  },
  {
   "cell_type": "code",
   "execution_count": 46,
   "metadata": {},
   "outputs": [],
   "source": [
    "data = data[data[land].notnull()]\n",
    "data = data[data[gross].notnull()]\n",
    "data = data[data[price].notnull()]"
   ]
  },
  {
   "cell_type": "code",
   "execution_count": 47,
   "metadata": {},
   "outputs": [
    {
     "name": "stdout",
     "output_type": "stream",
     "text": [
      "<class 'pandas.core.frame.DataFrame'>\n",
      "Int64Index: 48244 entries, 0 to 84547\n",
      "Data columns (total 22 columns):\n",
      "Unnamed: 0                        48244 non-null int64\n",
      "BOROUGH                           48244 non-null object\n",
      "NEIGHBORHOOD                      48244 non-null object\n",
      "BUILDING CLASS CATEGORY           48244 non-null object\n",
      "TAX CLASS AT PRESENT              48244 non-null object\n",
      "BLOCK                             48244 non-null int64\n",
      "LOT                               48244 non-null int64\n",
      "EASE-MENT                         48244 non-null object\n",
      "BUILDING CLASS AT PRESENT         48244 non-null object\n",
      "ADDRESS                           48244 non-null object\n",
      "APARTMENT NUMBER                  48244 non-null object\n",
      "ZIP CODE                          48244 non-null int64\n",
      "RESIDENTIAL UNITS                 48244 non-null int64\n",
      "COMMERCIAL UNITS                  48244 non-null int64\n",
      "TOTAL UNITS                       48244 non-null int64\n",
      "LAND SQUARE FEET                  48244 non-null float64\n",
      "GROSS SQUARE FEET                 48244 non-null float64\n",
      "YEAR BUILT                        48244 non-null int64\n",
      "TAX CLASS AT TIME OF SALE         48244 non-null int64\n",
      "BUILDING CLASS AT TIME OF SALE    48244 non-null object\n",
      "SALE PRICE                        48244 non-null float64\n",
      "SALE DATE                         48244 non-null datetime64[ns]\n",
      "dtypes: datetime64[ns](1), float64(3), int64(9), object(9)\n",
      "memory usage: 8.5+ MB\n"
     ]
    }
   ],
   "source": [
    "data.info()"
   ]
  },
  {
   "cell_type": "code",
   "execution_count": 48,
   "metadata": {},
   "outputs": [],
   "source": [
    "data = data[(data[price] > 100_000) & (data[price] < 5_000_000)]\n",
    "data = data[data[built] > 0]\n",
    "data[age] = 2019 - data[built]\n",
    "data = data[(data[total] > 0) & (data[total] < 60)]\n",
    "data = data[data[total] == data[commercial] + data[residential]]"
   ]
  },
  {
   "cell_type": "code",
   "execution_count": 49,
   "metadata": {},
   "outputs": [
    {
     "data": {
      "image/png": "[encoded data removed]",
      "text/plain": [
       "<Figure size 432x288 with 1 Axes>"
      ]
     },
     "metadata": {},
     "output_type": "display_data"
    }
   ],
   "source": [
    "hist = sns.distplot(data[price])"
   ]
  },
  {
   "cell_type": "code",
   "execution_count": 50,
   "metadata": {},
   "outputs": [
    {
     "data": {
      "image/png": "[encoded data removed]",
      "text/plain": [
       "<Figure size 432x288 with 1 Axes>"
      ]
     },
     "metadata": {},
     "output_type": "display_data"
    }
   ],
   "source": [
    "hist = sns.distplot(data[gross])"
   ]
  },
  {
   "cell_type": "code",
   "execution_count": 51,
   "metadata": {},
   "outputs": [
    {
     "data": {
      "text/plain": [
       "<matplotlib.axes._subplots.AxesSubplot at 0x1a250d6250>"
      ]
     },
     "execution_count": 51,
     "metadata": {},
     "output_type": "execute_result"
    },
    {
     "data": {
      "image/png": "[encoded data removed]",
      "text/plain": [
       "<Figure size 432x288 with 2 Axes>"
      ]
     },
     "metadata": {},
     "output_type": "display_data"
    }
   ],
   "source": [
    "d = data[[residential, commercial, total, age, price, gross, land]]\n",
    "corr = d.corr()\n",
    "sns.heatmap(corr, square = True, linewidth = .5, annot = True)"
   ]
  },
  {
   "cell_type": "code",
   "execution_count": 52,
   "metadata": {},
   "outputs": [],
   "source": [
    "data[commercial] = data[commercial] + 1\n",
    "data[residential] = data[residential] + 1\n",
    "data[gross] = data[gross] + 1\n",
    "data[land] = data[land] + 1\n",
    "data[age] = data[age] + 1\n",
    "\n",
    "data[price] = StandardScaler().fit_transform(np.log(data[price]).values.reshape(-1,1))\n",
    "data[commercial] = StandardScaler().fit_transform(np.log(data[commercial]).values.reshape(-1,1))\n",
    "data[residential] = StandardScaler().fit_transform(np.log(data[residential]).values.reshape(-1,1))\n",
    "data[gross] = StandardScaler().fit_transform(np.log(data[gross]).values.reshape(-1,1))\n",
    "data[land] = StandardScaler().fit_transform(np.log(data[land]).values.reshape(-1,1))\n",
    "data[age] = StandardScaler().fit_transform(np.log(data[age]).values.reshape(-1,1))\n",
    "\n",
    "data[price] = StandardScaler().fit_transform(np.log(data[price]).values.reshape(-1,1))"
   ]
  },
  {
   "cell_type": "code",
   "execution_count": 53,
   "metadata": {},
   "outputs": [
    {
     "data": {
      "text/plain": [
       "<matplotlib.axes._subplots.AxesSubplot at 0x1a25c14850>"
      ]
     },
     "execution_count": 53,
     "metadata": {},
     "output_type": "execute_result"
    },
    {
     "data": {
      "image/png": "[encoded data removed]",
      "text/plain": [
       "<Figure size 432x288 with 1 Axes>"
      ]
     },
     "metadata": {},
     "output_type": "display_data"
    }
   ],
   "source": [
    "data[price] = data[price].fillna(0)\n",
    "data[price].isna().sum()\n",
    "sns.distplot(data[price])"
   ]
  },
  {
   "cell_type": "code",
   "execution_count": 54,
   "metadata": {},
   "outputs": [
    {
     "name": "stdout",
     "output_type": "stream",
     "text": [
      "<class 'pandas.core.frame.DataFrame'>\n",
      "Int64Index: 29841 entries, 3 to 84545\n",
      "Data columns (total 36 columns):\n",
      "BOROUGH_Bronx                                                           29841 non-null uint8\n",
      "BOROUGH_Brooklyn                                                        29841 non-null uint8\n",
      "BOROUGH_Manhattan                                                       29841 non-null uint8\n",
      "BOROUGH_Queens                                                          29841 non-null uint8\n",
      "BOROUGH_Staten Island                                                   29841 non-null uint8\n",
      "BUILDING CLASS CATEGORY_01 ONE FAMILY DWELLINGS                         29841 non-null uint8\n",
      "BUILDING CLASS CATEGORY_02 TWO FAMILY DWELLINGS                         29841 non-null uint8\n",
      "BUILDING CLASS CATEGORY_03 THREE FAMILY DWELLINGS                       29841 non-null uint8\n",
      "BUILDING CLASS CATEGORY_04 TAX CLASS 1 CONDOS                           29841 non-null uint8\n",
      "BUILDING CLASS CATEGORY_05 TAX CLASS 1 VACANT LAND                      29841 non-null uint8\n",
      "BUILDING CLASS CATEGORY_06 TAX CLASS 1 - OTHER                          29841 non-null uint8\n",
      "BUILDING CLASS CATEGORY_07 RENTALS - WALKUP APARTMENTS                  29841 non-null uint8\n",
      "BUILDING CLASS CATEGORY_08 RENTALS - ELEVATOR APARTMENTS                29841 non-null uint8\n",
      "BUILDING CLASS CATEGORY_09 COOPS - WALKUP APARTMENTS                    29841 non-null uint8\n",
      "BUILDING CLASS CATEGORY_10 COOPS - ELEVATOR APARTMENTS                  29841 non-null uint8\n",
      "BUILDING CLASS CATEGORY_11A CONDO-RENTALS                               29841 non-null uint8\n",
      "BUILDING CLASS CATEGORY_12 CONDOS - WALKUP APARTMENTS                   29841 non-null uint8\n",
      "BUILDING CLASS CATEGORY_13 CONDOS - ELEVATOR APARTMENTS                 29841 non-null uint8\n",
      "BUILDING CLASS CATEGORY_14 RENTALS - 4-10 UNIT                          29841 non-null uint8\n",
      "BUILDING CLASS CATEGORY_15 CONDOS - 2-10 UNIT RESIDENTIAL               29841 non-null uint8\n",
      "BUILDING CLASS CATEGORY_16 CONDOS - 2-10 UNIT WITH COMMERCIAL UNIT      29841 non-null uint8\n",
      "BUILDING CLASS CATEGORY_21 OFFICE BUILDINGS                             29841 non-null uint8\n",
      "BUILDING CLASS CATEGORY_22 STORE BUILDINGS                              29841 non-null uint8\n",
      "BUILDING CLASS CATEGORY_23 LOFT BUILDINGS                               29841 non-null uint8\n",
      "BUILDING CLASS CATEGORY_26 OTHER HOTELS                                 29841 non-null uint8\n",
      "BUILDING CLASS CATEGORY_27 FACTORIES                                    29841 non-null uint8\n",
      "BUILDING CLASS CATEGORY_28 COMMERCIAL CONDOS                            29841 non-null uint8\n",
      "BUILDING CLASS CATEGORY_29 COMMERCIAL GARAGES                           29841 non-null uint8\n",
      "BUILDING CLASS CATEGORY_30 WAREHOUSES                                   29841 non-null uint8\n",
      "BUILDING CLASS CATEGORY_31 COMMERCIAL VACANT LAND                       29841 non-null uint8\n",
      "BUILDING CLASS CATEGORY_32 HOSPITAL AND HEALTH FACILITIES               29841 non-null uint8\n",
      "BUILDING CLASS CATEGORY_33 EDUCATIONAL FACILITIES                       29841 non-null uint8\n",
      "BUILDING CLASS CATEGORY_35 INDOOR PUBLIC AND CULTURAL FACILITIES        29841 non-null uint8\n",
      "BUILDING CLASS CATEGORY_37 RELIGIOUS FACILITIES                         29841 non-null uint8\n",
      "BUILDING CLASS CATEGORY_38 ASYLUMS AND HOMES                            29841 non-null uint8\n",
      "BUILDING CLASS CATEGORY_41 TAX CLASS 4 - OTHER                          29841 non-null uint8\n",
      "dtypes: uint8(36)\n",
      "memory usage: 1.3 MB\n"
     ]
    }
   ],
   "source": [
    "one_hot_data = [location, build_class]\n",
    "\n",
    "one_hot_encoded = pd.get_dummies(data[one_hot_data])\n",
    "one_hot_encoded.info(verbose=True, null_counts=True)\n",
    "data = data.drop(one_hot_data, axis=1)\n",
    "data = pd.concat([data, one_hot_encoded], axis=1)"
   ]
  },
  {
   "cell_type": "code",
   "execution_count": 74,
   "metadata": {},
   "outputs": [],
   "source": [
    "columns = [location, commercial, residential, gross, land, age, build_class, price]\n",
    "data_mod = data.loc[:,columns]"
   ]
  },
  {
   "cell_type": "code",
   "execution_count": 88,
   "metadata": {},
   "outputs": [],
   "source": [
    "features = [commercial, residential, gross, land, age]\n",
    "X = data[features]"
   ]
  },
  {
   "cell_type": "code",
   "execution_count": 90,
   "metadata": {},
   "outputs": [],
   "source": [
    "y = data[price]"
   ]
  },
  {
   "cell_type": "code",
   "execution_count": 91,
   "metadata": {},
   "outputs": [],
   "source": [
    "X_train, X_test, y_train, y_test = train_test_split(X, y, test_size = 0.4, random_state = 0)"
   ]
  },
  {
   "cell_type": "code",
   "execution_count": 57,
   "metadata": {},
   "outputs": [],
   "source": [
    "df_train = training.loc[:,data_mod.columns]\n",
    "X_train = df_train.drop([price], axis=1)\n",
    "y_train = df_train.loc[:, [price]]\n",
    "\n",
    "df_test = testing.loc[:,data_mod.columns]\n",
    "X_test = df_test.drop([price], axis=1)\n",
    "y_test = df_test.loc[:, [price]]"
   ]
  },
  {
   "cell_type": "code",
   "execution_count": 65,
   "metadata": {},
   "outputs": [
    {
     "data": {
      "text/plain": [
       "0"
      ]
     },
     "execution_count": 65,
     "metadata": {},
     "output_type": "execute_result"
    }
   ],
   "source": [
    "data[zip_code] = pd.to_numeric(data[zip_code], errors = 'coerce')\n",
    "data[zip_code] = data[zip_code].fillna(0)\n",
    "data[zip_code].isna().sum()"
   ]
  },
  {
   "cell_type": "code",
   "execution_count": 72,
   "metadata": {},
   "outputs": [
    {
     "data": {
      "text/plain": [
       "0"
      ]
     },
     "execution_count": 72,
     "metadata": {},
     "output_type": "execute_result"
    }
   ],
   "source": [
    "data[commercial] = pd.to_numeric(data[commercial], errors = 'coerce')\n",
    "data[commercial] = data[commercial].fillna(0)\n",
    "data[commercial].isna().sum()"
   ]
  },
  {
   "cell_type": "code",
   "execution_count": 70,
   "metadata": {},
   "outputs": [
    {
     "data": {
      "text/plain": [
       "0"
      ]
     },
     "execution_count": 70,
     "metadata": {},
     "output_type": "execute_result"
    }
   ],
   "source": [
    "data[residential] = pd.to_numeric(data[residential], errors = 'coerce')\n",
    "data[residential] = data[residential].fillna(0)\n",
    "data[residential].isna().sum()\n",
    "\n",
    "data[age] = pd.to_numeric(data[age], errors = 'coerce')\n",
    "data[age] = data[age].fillna(0)\n",
    "data[age].isna().sum()"
   ]
  },
  {
   "cell_type": "code",
   "execution_count": 69,
   "metadata": {},
   "outputs": [
    {
     "data": {
      "text/plain": [
       "0"
      ]
     },
     "execution_count": 69,
     "metadata": {},
     "output_type": "execute_result"
    }
   ],
   "source": [
    "data[gross] = pd.to_numeric(data[gross], errors = 'coerce')\n",
    "data[gross] = data[gross].fillna(0)\n",
    "data[gross].isna().sum()\n",
    "\n",
    "data[land] = pd.to_numeric(data[land], errors = 'coerce')\n",
    "data[land] = data[land].fillna(0)\n",
    "data[land].isna().sum()"
   ]
  },
  {
   "cell_type": "code",
   "execution_count": 75,
   "metadata": {},
   "outputs": [
    {
     "data": {
      "text/plain": [
       "(100, 5)"
      ]
     },
     "execution_count": 75,
     "metadata": {},
     "output_type": "execute_result"
    }
   ],
   "source": [
    "alphas = 10**np.linspace(10,-2,100)*0.5\n",
    "\n",
    "ridge = Ridge()\n",
    "\n",
    "X = data_mod.drop([price], axis=1)\n",
    "y = data_mod.loc[:, price]\n",
    "\n",
    "coefs = []\n",
    "for a in alphas:\n",
    "    ridge.set_params(alpha=a)\n",
    "    ridge.fit(X, y)\n",
    "    coefs.append(ridge.coef_)\n",
    "np.shape(coefs)"
   ]
  },
  {
   "cell_type": "code",
   "execution_count": 93,
   "metadata": {},
   "outputs": [
    {
     "data": {
      "text/plain": [
       "16.372745814388658"
      ]
     },
     "execution_count": 93,
     "metadata": {},
     "output_type": "execute_result"
    }
   ],
   "source": [
    "ridgecv = RidgeCV(alphas=alphas)\n",
    "ridgecv.fit(X_train, y_train)\n",
    "ridgecv.alpha_"
   ]
  },
  {
   "cell_type": "code",
   "execution_count": 101,
   "metadata": {},
   "outputs": [
    {
     "name": "stdout",
     "output_type": "stream",
     "text": [
      "R^2: 0.004777933978633686\n",
      "Root Mean Squared Error: 0.6788341687858955\n",
      "Average 5-Fold CV Score: 0.004518888099921114\n",
      "[0.0050548  0.00456733 0.00437817 0.00404411 0.00455002]\n"
     ]
    },
    {
     "data": {
      "text/plain": [
       "COMMERCIAL UNITS     0.006632\n",
       "RESIDENTIAL UNITS    0.004178\n",
       "GROSS SQUARE FEET   -0.000492\n",
       "LAND SQUARE FEET    -0.002524\n",
       "AGE OF BUILDING      0.000231\n",
       "dtype: float64"
      ]
     },
     "execution_count": 101,
     "metadata": {},
     "output_type": "execute_result"
    }
   ],
   "source": [
    "ridge = Ridge(alpha=ridgecv.alpha_, normalize=True)\n",
    "\n",
    "ridge.fit(X_train, y_train)\n",
    "\n",
    "y_pred_ridge = ridge.predict(X_test)\n",
    "\n",
    "ridge_cv = cross_val_score(ridge, X_train, y_train, cv=5)\n",
    "print(\"R^2: {}\".format(ridge.score(X_test, y_test)))\n",
    "rmse = np.sqrt(mean_squared_error(y_test, y_pred_ridge))\n",
    "print(\"Root Mean Squared Error: {}\".format(rmse))\n",
    "\n",
    "print(\"Average 5-Fold CV Score: {}\".format(np.mean(ridge_cv)))\n",
    "print(ridge_cv)\n",
    "\n",
    "ridge.fit(X,y)\n",
    "pd.Series(ridge.coef_, index=X.columns)"
   ]
  },
  {
   "cell_type": "code",
   "execution_count": 96,
   "metadata": {},
   "outputs": [
    {
     "data": {
      "text/plain": [
       "0.004860801743009957"
      ]
     },
     "execution_count": 96,
     "metadata": {},
     "output_type": "execute_result"
    }
   ],
   "source": [
    "ridge.score(X_test, y_test)"
   ]
  },
  {
   "cell_type": "code",
   "execution_count": 99,
   "metadata": {},
   "outputs": [],
   "source": [
    "y_predicted = ridge.predict(X_test)"
   ]
  },
  {
   "cell_type": "code",
   "execution_count": 100,
   "metadata": {},
   "outputs": [
    {
     "data": {
      "text/plain": [
       "0.46077745860388347"
      ]
     },
     "execution_count": 100,
     "metadata": {},
     "output_type": "execute_result"
    }
   ],
   "source": [
    "from sklearn.metrics import mean_squared_error\n",
    "mean_squared_error(y_test, y_predicted)"
   ]
  },
  {
   "cell_type": "code",
   "execution_count": null,
   "metadata": {},
   "outputs": [],
   "source": []
  }
 ],
 "metadata": {
  "kernelspec": {
   "display_name": "Python 3",
   "language": "python",
   "name": "python3"
  },
  "language_info": {
   "codemirror_mode": {
    "name": "ipython",
    "version": 3
   },
   "file_extension": ".py",
   "mimetype": "text/x-python",
   "name": "python",
   "nbconvert_exporter": "python",
   "pygments_lexer": "ipython3",
   "version": "3.7.4"
  }
 },
 "nbformat": 4,
 "nbformat_minor": 4
}
