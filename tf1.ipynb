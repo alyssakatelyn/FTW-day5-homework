{
 "cells": [
  {
   "cell_type": "code",
   "execution_count": 2,
   "metadata": {},
   "outputs": [],
   "source": [
    "import pandas as pd\n",
    "import pandas as pd\n",
    "import numpy as np\n",
    "import matplotlib.pyplot as plt\n",
    "import tensorflow as tf\n",
    "from sklearn.preprocessing import StandardScaler\n",
    "from sklearn.model_selection import train_test_split\n",
    "from sklearn.metrics import classification_report"
   ]
  },
  {
   "cell_type": "code",
   "execution_count": 4,
   "metadata": {},
   "outputs": [],
   "source": [
    "census = pd.read_csv('/Users/alyssa/Documents/FTW/Day_6/LAB/census.csv')"
   ]
  },
  {
   "cell_type": "code",
   "execution_count": 5,
   "metadata": {},
   "outputs": [
    {
     "data": {
      "text/html": [
       "<div>\n",
       "<style scoped>\n",
       "    .dataframe tbody tr th:only-of-type {\n",
       "        vertical-align: middle;\n",
       "    }\n",
       "\n",
       "    .dataframe tbody tr th {\n",
       "        vertical-align: top;\n",
       "    }\n",
       "\n",
       "    .dataframe thead th {\n",
       "        text-align: right;\n",
       "    }\n",
       "</style>\n",
       "<table border=\"1\" class=\"dataframe\">\n",
       "  <thead>\n",
       "    <tr style=\"text-align: right;\">\n",
       "      <th></th>\n",
       "      <th>age</th>\n",
       "      <th>workclass</th>\n",
       "      <th>education_level</th>\n",
       "      <th>education-num</th>\n",
       "      <th>marital-status</th>\n",
       "      <th>occupation</th>\n",
       "      <th>relationship</th>\n",
       "      <th>race</th>\n",
       "      <th>sex</th>\n",
       "      <th>capital-gain</th>\n",
       "      <th>capital-loss</th>\n",
       "      <th>hours-per-week</th>\n",
       "      <th>native-country</th>\n",
       "      <th>income</th>\n",
       "    </tr>\n",
       "  </thead>\n",
       "  <tbody>\n",
       "    <tr>\n",
       "      <td>0</td>\n",
       "      <td>39</td>\n",
       "      <td>State-gov</td>\n",
       "      <td>Bachelors</td>\n",
       "      <td>13.0</td>\n",
       "      <td>Never-married</td>\n",
       "      <td>Adm-clerical</td>\n",
       "      <td>Not-in-family</td>\n",
       "      <td>White</td>\n",
       "      <td>Male</td>\n",
       "      <td>2174.0</td>\n",
       "      <td>0.0</td>\n",
       "      <td>40.0</td>\n",
       "      <td>United-States</td>\n",
       "      <td>&lt;=50K</td>\n",
       "    </tr>\n",
       "    <tr>\n",
       "      <td>1</td>\n",
       "      <td>50</td>\n",
       "      <td>Self-emp-not-inc</td>\n",
       "      <td>Bachelors</td>\n",
       "      <td>13.0</td>\n",
       "      <td>Married-civ-spouse</td>\n",
       "      <td>Exec-managerial</td>\n",
       "      <td>Husband</td>\n",
       "      <td>White</td>\n",
       "      <td>Male</td>\n",
       "      <td>0.0</td>\n",
       "      <td>0.0</td>\n",
       "      <td>13.0</td>\n",
       "      <td>United-States</td>\n",
       "      <td>&lt;=50K</td>\n",
       "    </tr>\n",
       "    <tr>\n",
       "      <td>2</td>\n",
       "      <td>38</td>\n",
       "      <td>Private</td>\n",
       "      <td>HS-grad</td>\n",
       "      <td>9.0</td>\n",
       "      <td>Divorced</td>\n",
       "      <td>Handlers-cleaners</td>\n",
       "      <td>Not-in-family</td>\n",
       "      <td>White</td>\n",
       "      <td>Male</td>\n",
       "      <td>0.0</td>\n",
       "      <td>0.0</td>\n",
       "      <td>40.0</td>\n",
       "      <td>United-States</td>\n",
       "      <td>&lt;=50K</td>\n",
       "    </tr>\n",
       "    <tr>\n",
       "      <td>3</td>\n",
       "      <td>53</td>\n",
       "      <td>Private</td>\n",
       "      <td>11th</td>\n",
       "      <td>7.0</td>\n",
       "      <td>Married-civ-spouse</td>\n",
       "      <td>Handlers-cleaners</td>\n",
       "      <td>Husband</td>\n",
       "      <td>Black</td>\n",
       "      <td>Male</td>\n",
       "      <td>0.0</td>\n",
       "      <td>0.0</td>\n",
       "      <td>40.0</td>\n",
       "      <td>United-States</td>\n",
       "      <td>&lt;=50K</td>\n",
       "    </tr>\n",
       "    <tr>\n",
       "      <td>4</td>\n",
       "      <td>28</td>\n",
       "      <td>Private</td>\n",
       "      <td>Bachelors</td>\n",
       "      <td>13.0</td>\n",
       "      <td>Married-civ-spouse</td>\n",
       "      <td>Prof-specialty</td>\n",
       "      <td>Wife</td>\n",
       "      <td>Black</td>\n",
       "      <td>Female</td>\n",
       "      <td>0.0</td>\n",
       "      <td>0.0</td>\n",
       "      <td>40.0</td>\n",
       "      <td>Cuba</td>\n",
       "      <td>&lt;=50K</td>\n",
       "    </tr>\n",
       "  </tbody>\n",
       "</table>\n",
       "</div>"
      ],
      "text/plain": [
       "   age          workclass education_level  education-num       marital-status  \\\n",
       "0   39          State-gov       Bachelors           13.0        Never-married   \n",
       "1   50   Self-emp-not-inc       Bachelors           13.0   Married-civ-spouse   \n",
       "2   38            Private         HS-grad            9.0             Divorced   \n",
       "3   53            Private            11th            7.0   Married-civ-spouse   \n",
       "4   28            Private       Bachelors           13.0   Married-civ-spouse   \n",
       "\n",
       "           occupation    relationship    race      sex  capital-gain  \\\n",
       "0        Adm-clerical   Not-in-family   White     Male        2174.0   \n",
       "1     Exec-managerial         Husband   White     Male           0.0   \n",
       "2   Handlers-cleaners   Not-in-family   White     Male           0.0   \n",
       "3   Handlers-cleaners         Husband   Black     Male           0.0   \n",
       "4      Prof-specialty            Wife   Black   Female           0.0   \n",
       "\n",
       "   capital-loss  hours-per-week  native-country income  \n",
       "0           0.0            40.0   United-States  <=50K  \n",
       "1           0.0            13.0   United-States  <=50K  \n",
       "2           0.0            40.0   United-States  <=50K  \n",
       "3           0.0            40.0   United-States  <=50K  \n",
       "4           0.0            40.0            Cuba  <=50K  "
      ]
     },
     "execution_count": 5,
     "metadata": {},
     "output_type": "execute_result"
    }
   ],
   "source": [
    "census.head()"
   ]
  },
  {
   "cell_type": "code",
   "execution_count": 6,
   "metadata": {},
   "outputs": [
    {
     "name": "stdout",
     "output_type": "stream",
     "text": [
      "<class 'pandas.core.frame.DataFrame'>\n",
      "RangeIndex: 45222 entries, 0 to 45221\n",
      "Data columns (total 14 columns):\n",
      "age                45222 non-null int64\n",
      "workclass          45222 non-null object\n",
      "education_level    45222 non-null object\n",
      "education-num      45222 non-null float64\n",
      "marital-status     45222 non-null object\n",
      "occupation         45222 non-null object\n",
      "relationship       45222 non-null object\n",
      "race               45222 non-null object\n",
      "sex                45222 non-null object\n",
      "capital-gain       45222 non-null float64\n",
      "capital-loss       45222 non-null float64\n",
      "hours-per-week     45222 non-null float64\n",
      "native-country     45222 non-null object\n",
      "income             45222 non-null object\n",
      "dtypes: float64(4), int64(1), object(9)\n",
      "memory usage: 4.8+ MB\n"
     ]
    }
   ],
   "source": [
    "census.info()"
   ]
  },
  {
   "cell_type": "code",
   "execution_count": 7,
   "metadata": {},
   "outputs": [
    {
     "data": {
      "text/plain": [
       "array(['<=50K', '>50K'], dtype=object)"
      ]
     },
     "execution_count": 7,
     "metadata": {},
     "output_type": "execute_result"
    }
   ],
   "source": [
    "census['income'].unique()"
   ]
  },
  {
   "cell_type": "code",
   "execution_count": 8,
   "metadata": {},
   "outputs": [],
   "source": [
    "def label_fix(label):\n",
    "    if label==' <=50K':\n",
    "        return 0\n",
    "    else:\n",
    "        return 1"
   ]
  },
  {
   "cell_type": "code",
   "execution_count": 9,
   "metadata": {},
   "outputs": [],
   "source": [
    "census['income'] = census['income'].apply(label_fix)"
   ]
  },
  {
   "cell_type": "code",
   "execution_count": 10,
   "metadata": {},
   "outputs": [],
   "source": [
    "x_data = census.drop('income',axis=1)\n",
    "y_labels = census['income']\n",
    "\n",
    "X_train, X_test, y_train, y_test = train_test_split(x_data,y_labels,test_size=0.3,random_state=101)"
   ]
  },
  {
   "cell_type": "code",
   "execution_count": 11,
   "metadata": {},
   "outputs": [
    {
     "data": {
      "text/plain": [
       "Index(['age', 'workclass', 'education_level', 'education-num',\n",
       "       'marital-status', 'occupation', 'relationship', 'race', 'sex',\n",
       "       'capital-gain', 'capital-loss', 'hours-per-week', 'native-country',\n",
       "       'income'],\n",
       "      dtype='object')"
      ]
     },
     "execution_count": 11,
     "metadata": {},
     "output_type": "execute_result"
    }
   ],
   "source": [
    "census.columns"
   ]
  },
  {
   "cell_type": "code",
   "execution_count": 12,
   "metadata": {},
   "outputs": [],
   "source": [
    "gender = tf.feature_column.categorical_column_with_vocabulary_list(\"sex\", [\"Female\", \"Male\"], default_value = 0)\n",
    "occupation = tf.feature_column.categorical_column_with_hash_bucket(\"occupation\", hash_bucket_size=1000)\n",
    "marital_status = tf.feature_column.categorical_column_with_hash_bucket(\"marital-status\", hash_bucket_size=1000)\n",
    "relationship = tf.feature_column.categorical_column_with_hash_bucket(\"relationship\", hash_bucket_size=1000)\n",
    "education = tf.feature_column.categorical_column_with_hash_bucket(\"education_level\", hash_bucket_size=1000)\n",
    "workclass = tf.feature_column.categorical_column_with_hash_bucket(\"workclass\", hash_bucket_size=1000)\n",
    "native_country = tf.feature_column.categorical_column_with_hash_bucket(\"native-country\", hash_bucket_size=1000)"
   ]
  },
  {
   "cell_type": "markdown",
   "metadata": {},
   "source": [
    "** Create the continuous feature_columns for the continuous values using numeric_column **"
   ]
  },
  {
   "cell_type": "code",
   "execution_count": 13,
   "metadata": {},
   "outputs": [],
   "source": [
    "age = tf.feature_column.numeric_column(\"age\")\n",
    "education_num = tf.feature_column.numeric_column(\"education-num\")\n",
    "capital_gain = tf.feature_column.numeric_column(\"capital-gain\")\n",
    "capital_loss = tf.feature_column.numeric_column(\"capital-loss\")\n",
    "hours_per_week = tf.feature_column.numeric_column(\"hours-per-week\")"
   ]
  },
  {
   "cell_type": "markdown",
   "metadata": {},
   "source": [
    "** Put all these variables into a single list with the variable name feat_cols **"
   ]
  },
  {
   "cell_type": "code",
   "execution_count": 30,
   "metadata": {},
   "outputs": [
    {
     "ename": "NameError",
     "evalue": "name 'income' is not defined",
     "output_type": "error",
     "traceback": [
      "\u001b[0;31m---------------------------------------------------------------------------\u001b[0m",
      "\u001b[0;31mNameError\u001b[0m                                 Traceback (most recent call last)",
      "\u001b[0;32m<ipython-input-30-e5236b4a0f8f>\u001b[0m in \u001b[0;36m<module>\u001b[0;34m\u001b[0m\n\u001b[1;32m      1\u001b[0m feat_cols = [gender, occupation, marital_status, relationship, education, workclass, native_country,\n\u001b[0;32m----> 2\u001b[0;31m             age, education_num, capital_gain, capital_loss, hours_per_week, income]\n\u001b[0m",
      "\u001b[0;31mNameError\u001b[0m: name 'income' is not defined"
     ]
    }
   ],
   "source": [
    "feat_cols = [gender, occupation, marital_status, relationship, education, workclass, native_country,\n",
    "            age, education_num, capital_gain, capital_loss, hours_per_week]"
   ]
  },
  {
   "cell_type": "code",
   "execution_count": 15,
   "metadata": {},
   "outputs": [],
   "source": [
    "from tensorflow_core.estimator import inputs"
   ]
  },
  {
   "cell_type": "code",
   "execution_count": 16,
   "metadata": {},
   "outputs": [],
   "source": [
    "input_func=tf.compat.v1.estimator.inputs.pandas_input_fn(x = X_train, y = y_train, batch_size = 100, num_epochs = None, shuffle = True)"
   ]
  },
  {
   "cell_type": "code",
   "execution_count": 17,
   "metadata": {},
   "outputs": [
    {
     "name": "stdout",
     "output_type": "stream",
     "text": [
      "INFO:tensorflow:Using default config.\n",
      "WARNING:tensorflow:Using temporary folder as model directory: /var/folders/zp/6m6hk6h94s55z0fscw1_wlp40000gp/T/tmp3l395hyt\n",
      "INFO:tensorflow:Using config: {'_model_dir': '/var/folders/zp/6m6hk6h94s55z0fscw1_wlp40000gp/T/tmp3l395hyt', '_tf_random_seed': None, '_save_summary_steps': 100, '_save_checkpoints_steps': None, '_save_checkpoints_secs': 600, '_session_config': allow_soft_placement: true\n",
      "graph_options {\n",
      "  rewrite_options {\n",
      "    meta_optimizer_iterations: ONE\n",
      "  }\n",
      "}\n",
      ", '_keep_checkpoint_max': 5, '_keep_checkpoint_every_n_hours': 10000, '_log_step_count_steps': 100, '_train_distribute': None, '_device_fn': None, '_protocol': None, '_eval_distribute': None, '_experimental_distribute': None, '_experimental_max_worker_delay_secs': None, '_session_creation_timeout_secs': 7200, '_service': None, '_cluster_spec': <tensorflow.python.training.server_lib.ClusterSpec object at 0x1a3755ccd0>, '_task_type': 'worker', '_task_id': 0, '_global_id_in_cluster': 0, '_master': '', '_evaluation_master': '', '_is_chief': True, '_num_ps_replicas': 0, '_num_worker_replicas': 1}\n"
     ]
    }
   ],
   "source": [
    "model = tf.estimator.LinearClassifier(model_dir = None, feature_columns = feat_cols)"
   ]
  },
  {
   "cell_type": "markdown",
   "metadata": {},
   "source": [
    "** Train your model on the data, for at least 5000 steps. **"
   ]
  },
  {
   "cell_type": "code",
   "execution_count": 18,
   "metadata": {},
   "outputs": [
    {
     "name": "stdout",
     "output_type": "stream",
     "text": [
      "WARNING:tensorflow:From /Users/alyssa/opt/anaconda3/lib/python3.7/site-packages/tensorflow_core/python/ops/resource_variable_ops.py:1630: calling BaseResourceVariable.__init__ (from tensorflow.python.ops.resource_variable_ops) with constraint is deprecated and will be removed in a future version.\n",
      "Instructions for updating:\n",
      "If using Keras pass *_constraint arguments to layers.\n",
      "WARNING:tensorflow:From /Users/alyssa/opt/anaconda3/lib/python3.7/site-packages/tensorflow_core/python/training/training_util.py:236: Variable.initialized_value (from tensorflow.python.ops.variables) is deprecated and will be removed in a future version.\n",
      "Instructions for updating:\n",
      "Use Variable.read_value. Variables in 2.X are initialized automatically both in eager and graph (inside tf.defun) contexts.\n",
      "WARNING:tensorflow:From /Users/alyssa/opt/anaconda3/lib/python3.7/site-packages/tensorflow_estimator/python/estimator/inputs/queues/feeding_queue_runner.py:62: QueueRunner.__init__ (from tensorflow.python.training.queue_runner_impl) is deprecated and will be removed in a future version.\n",
      "Instructions for updating:\n",
      "To construct input pipelines, use the `tf.data` module.\n",
      "WARNING:tensorflow:From /Users/alyssa/opt/anaconda3/lib/python3.7/site-packages/tensorflow_estimator/python/estimator/inputs/queues/feeding_functions.py:500: add_queue_runner (from tensorflow.python.training.queue_runner_impl) is deprecated and will be removed in a future version.\n",
      "Instructions for updating:\n",
      "To construct input pipelines, use the `tf.data` module.\n",
      "INFO:tensorflow:Calling model_fn.\n",
      "WARNING:tensorflow:Layer linear/linear_model is casting an input tensor from dtype float64 to the layer's dtype of float32, which is new behavior in TensorFlow 2.  The layer has dtype float32 because it's dtype defaults to floatx.\n",
      "\n",
      "If you intended to run this layer in float32, you can safely ignore this warning. If in doubt, this warning is likely only an issue if you are porting a TensorFlow 1.X model to TensorFlow 2.\n",
      "\n",
      "To change all layers to have dtype float64 by default, call `tf.keras.backend.set_floatx('float64')`. To change just this layer, pass dtype='float64' to the layer constructor. If you are the author of this layer, you can disable autocasting by passing autocast=False to the base Layer constructor.\n",
      "\n",
      "WARNING:tensorflow:From /Users/alyssa/opt/anaconda3/lib/python3.7/site-packages/tensorflow_core/python/feature_column/feature_column_v2.py:518: Layer.add_variable (from tensorflow.python.keras.engine.base_layer) is deprecated and will be removed in a future version.\n",
      "Instructions for updating:\n",
      "Please use `layer.add_weight` method instead.\n",
      "WARNING:tensorflow:From /Users/alyssa/opt/anaconda3/lib/python3.7/site-packages/tensorflow_estimator/python/estimator/canned/linear.py:308: to_float (from tensorflow.python.ops.math_ops) is deprecated and will be removed in a future version.\n",
      "Instructions for updating:\n",
      "Use `tf.cast` instead.\n",
      "WARNING:tensorflow:From /Users/alyssa/opt/anaconda3/lib/python3.7/site-packages/tensorflow_core/python/keras/optimizer_v2/ftrl.py:143: calling Constant.__init__ (from tensorflow.python.ops.init_ops) with dtype is deprecated and will be removed in a future version.\n",
      "Instructions for updating:\n",
      "Call initializer instance with the dtype argument instead of passing it to the constructor\n",
      "INFO:tensorflow:Done calling model_fn.\n",
      "INFO:tensorflow:Create CheckpointSaverHook.\n",
      "INFO:tensorflow:Graph was finalized.\n",
      "INFO:tensorflow:Running local_init_op.\n",
      "INFO:tensorflow:Done running local_init_op.\n",
      "WARNING:tensorflow:From /Users/alyssa/opt/anaconda3/lib/python3.7/site-packages/tensorflow_core/python/training/monitored_session.py:882: start_queue_runners (from tensorflow.python.training.queue_runner_impl) is deprecated and will be removed in a future version.\n",
      "Instructions for updating:\n",
      "To construct input pipelines, use the `tf.data` module.\n",
      "INFO:tensorflow:Saving checkpoints for 0 into /var/folders/zp/6m6hk6h94s55z0fscw1_wlp40000gp/T/tmp3l395hyt/model.ckpt.\n",
      "INFO:tensorflow:loss = 0.6931472, step = 0\n",
      "INFO:tensorflow:global_step/sec: 115.092\n",
      "INFO:tensorflow:loss = 6.6705584e-06, step = 100 (0.880 sec)\n",
      "INFO:tensorflow:global_step/sec: 205.97\n",
      "INFO:tensorflow:loss = 5.3424287e-06, step = 200 (0.477 sec)\n",
      "INFO:tensorflow:global_step/sec: 206.023\n",
      "INFO:tensorflow:loss = 1.8949557e-06, step = 300 (0.485 sec)\n",
      "WARNING:tensorflow:It seems that global step (tf.train.get_global_step) has not been increased. Current value (could be stable): 307 vs previous value: 307. You could increase the global step by passing tf.train.get_global_step() to Optimizer.apply_gradients or Optimizer.minimize.\n",
      "INFO:tensorflow:global_step/sec: 195.49\n",
      "INFO:tensorflow:loss = 3.4053755e-06, step = 400 (0.512 sec)\n",
      "INFO:tensorflow:global_step/sec: 238.861\n",
      "INFO:tensorflow:loss = 2.0683628e-06, step = 500 (0.419 sec)\n",
      "INFO:tensorflow:global_step/sec: 218.172\n",
      "INFO:tensorflow:loss = 1.0594217e-06, step = 600 (0.459 sec)\n",
      "INFO:tensorflow:global_step/sec: 216.563\n",
      "INFO:tensorflow:loss = 1.2424148e-06, step = 700 (0.462 sec)\n",
      "INFO:tensorflow:global_step/sec: 199.803\n",
      "INFO:tensorflow:loss = 5.8536335e-07, step = 800 (0.499 sec)\n",
      "INFO:tensorflow:global_step/sec: 205.282\n",
      "INFO:tensorflow:loss = 3.413476e-05, step = 900 (0.489 sec)\n",
      "WARNING:tensorflow:It seems that global step (tf.train.get_global_step) has not been increased. Current value (could be stable): 903 vs previous value: 903. You could increase the global step by passing tf.train.get_global_step() to Optimizer.apply_gradients or Optimizer.minimize.\n",
      "INFO:tensorflow:global_step/sec: 197.004\n",
      "INFO:tensorflow:loss = 1.0690444e-05, step = 1000 (0.507 sec)\n",
      "INFO:tensorflow:global_step/sec: 154.274\n",
      "INFO:tensorflow:loss = 8.0775715e-07, step = 1100 (0.645 sec)\n",
      "INFO:tensorflow:global_step/sec: 201.596\n",
      "INFO:tensorflow:loss = 1.13056185e-05, step = 1200 (0.502 sec)\n",
      "INFO:tensorflow:global_step/sec: 180.968\n",
      "INFO:tensorflow:loss = 2.1020705e-06, step = 1300 (0.550 sec)\n",
      "INFO:tensorflow:global_step/sec: 199.574\n",
      "INFO:tensorflow:loss = 4.3038403e-06, step = 1400 (0.501 sec)\n",
      "INFO:tensorflow:global_step/sec: 225.812\n",
      "INFO:tensorflow:loss = 1.5763834e-06, step = 1500 (0.443 sec)\n",
      "INFO:tensorflow:global_step/sec: 206.947\n",
      "INFO:tensorflow:loss = 4.428154e-06, step = 1600 (0.480 sec)\n",
      "INFO:tensorflow:global_step/sec: 203.191\n",
      "INFO:tensorflow:loss = 3.212483e-06, step = 1700 (0.494 sec)\n",
      "INFO:tensorflow:global_step/sec: 198.018\n",
      "INFO:tensorflow:loss = 1.9915085e-05, step = 1800 (0.505 sec)\n",
      "INFO:tensorflow:global_step/sec: 219.202\n",
      "INFO:tensorflow:loss = 1.4252905e-06, step = 1900 (0.456 sec)\n",
      "INFO:tensorflow:global_step/sec: 188.89\n",
      "INFO:tensorflow:loss = 4.9319046e-06, step = 2000 (0.527 sec)\n",
      "INFO:tensorflow:global_step/sec: 224.737\n",
      "INFO:tensorflow:loss = 8.452809e-06, step = 2100 (0.449 sec)\n",
      "INFO:tensorflow:global_step/sec: 200.723\n",
      "INFO:tensorflow:loss = 1.1078284e-06, step = 2200 (0.494 sec)\n",
      "INFO:tensorflow:global_step/sec: 220.457\n",
      "INFO:tensorflow:loss = 6.77115e-06, step = 2300 (0.456 sec)\n",
      "INFO:tensorflow:global_step/sec: 198.674\n",
      "INFO:tensorflow:loss = 6.5615404e-06, step = 2400 (0.504 sec)\n",
      "INFO:tensorflow:global_step/sec: 217.96\n",
      "INFO:tensorflow:loss = 2.29917e-06, step = 2500 (0.459 sec)\n",
      "INFO:tensorflow:global_step/sec: 215.263\n",
      "INFO:tensorflow:loss = 1.4053304e-05, step = 2600 (0.465 sec)\n",
      "INFO:tensorflow:global_step/sec: 225.41\n",
      "INFO:tensorflow:loss = 6.433429e-06, step = 2700 (0.440 sec)\n",
      "INFO:tensorflow:global_step/sec: 205.982\n",
      "INFO:tensorflow:loss = 3.3736042e-06, step = 2800 (0.485 sec)\n",
      "INFO:tensorflow:global_step/sec: 220.011\n",
      "INFO:tensorflow:loss = 6.36563e-06, step = 2900 (0.457 sec)\n",
      "INFO:tensorflow:global_step/sec: 219.792\n",
      "INFO:tensorflow:loss = 3.0694712e-06, step = 3000 (0.456 sec)\n",
      "INFO:tensorflow:global_step/sec: 201.892\n",
      "INFO:tensorflow:loss = 5.605932e-06, step = 3100 (0.495 sec)\n",
      "INFO:tensorflow:global_step/sec: 199.351\n",
      "INFO:tensorflow:loss = 2.2141417e-06, step = 3200 (0.503 sec)\n",
      "INFO:tensorflow:global_step/sec: 220.71\n",
      "INFO:tensorflow:loss = 1.9484794e-06, step = 3300 (0.453 sec)\n",
      "INFO:tensorflow:global_step/sec: 226.878\n",
      "INFO:tensorflow:loss = 3.744407e-06, step = 3400 (0.441 sec)\n",
      "INFO:tensorflow:global_step/sec: 160.839\n",
      "INFO:tensorflow:loss = 2.0103007e-06, step = 3500 (0.621 sec)\n",
      "INFO:tensorflow:global_step/sec: 174.194\n",
      "INFO:tensorflow:loss = 9.028575e-06, step = 3600 (0.575 sec)\n",
      "INFO:tensorflow:global_step/sec: 198.429\n",
      "INFO:tensorflow:loss = 1.8563754e-06, step = 3700 (0.505 sec)\n",
      "INFO:tensorflow:global_step/sec: 188.36\n",
      "INFO:tensorflow:loss = 2.45684e-06, step = 3800 (0.527 sec)\n",
      "INFO:tensorflow:global_step/sec: 224.802\n",
      "INFO:tensorflow:loss = 1.7098952e-06, step = 3900 (0.445 sec)\n",
      "INFO:tensorflow:global_step/sec: 227.498\n",
      "INFO:tensorflow:loss = 9.530666e-06, step = 4000 (0.443 sec)\n",
      "INFO:tensorflow:global_step/sec: 228.419\n",
      "INFO:tensorflow:loss = 6.879187e-07, step = 4100 (0.438 sec)\n",
      "INFO:tensorflow:global_step/sec: 230.71\n",
      "INFO:tensorflow:loss = 3.7321029e-06, step = 4200 (0.434 sec)\n",
      "INFO:tensorflow:global_step/sec: 225.978\n",
      "INFO:tensorflow:loss = 2.830112e-06, step = 4300 (0.442 sec)\n",
      "INFO:tensorflow:global_step/sec: 220.739\n",
      "INFO:tensorflow:loss = 5.1701777e-06, step = 4400 (0.452 sec)\n",
      "INFO:tensorflow:global_step/sec: 218.101\n",
      "INFO:tensorflow:loss = 1.253979e-06, step = 4500 (0.471 sec)\n",
      "INFO:tensorflow:global_step/sec: 211.628\n",
      "INFO:tensorflow:loss = 3.5062935e-06, step = 4600 (0.461 sec)\n",
      "INFO:tensorflow:global_step/sec: 147.089\n",
      "INFO:tensorflow:loss = 4.356088e-06, step = 4700 (0.679 sec)\n",
      "INFO:tensorflow:global_step/sec: 180.669\n",
      "INFO:tensorflow:loss = 1.2782098e-05, step = 4800 (0.551 sec)\n",
      "INFO:tensorflow:global_step/sec: 206.221\n",
      "INFO:tensorflow:loss = 3.0642689e-06, step = 4900 (0.489 sec)\n",
      "INFO:tensorflow:Saving checkpoints for 5000 into /var/folders/zp/6m6hk6h94s55z0fscw1_wlp40000gp/T/tmp3l395hyt/model.ckpt.\n",
      "INFO:tensorflow:Loss for final step: 2.4506674e-06.\n"
     ]
    },
    {
     "data": {
      "text/plain": [
       "<tensorflow_estimator.python.estimator.canned.linear.LinearClassifierV2 at 0x1a3757a290>"
      ]
     },
     "execution_count": 18,
     "metadata": {},
     "output_type": "execute_result"
    }
   ],
   "source": [
    "model.train(input_fn = input_func, steps = 5000)"
   ]
  },
  {
   "cell_type": "code",
   "execution_count": 19,
   "metadata": {},
   "outputs": [],
   "source": [
    "pred_fn = tf.compat.v1.estimator.inputs.pandas_input_fn(x = X_test,batch_size = len(X_test), shuffle = True)"
   ]
  },
  {
   "cell_type": "code",
   "execution_count": 29,
   "metadata": {},
   "outputs": [
    {
     "name": "stdout",
     "output_type": "stream",
     "text": [
      "       age     workclass education_level  education-num       marital-status  \\\n",
      "18689   52       Private         HS-grad            9.0   Married-civ-spouse   \n",
      "21419   20       Private         HS-grad            9.0        Never-married   \n",
      "19024   26       Private    Some-college           10.0        Never-married   \n",
      "42793   22       Private    Some-college           10.0        Never-married   \n",
      "7241    22       Private    Some-college           10.0        Never-married   \n",
      "...    ...           ...             ...            ...                  ...   \n",
      "3231    55       Private         HS-grad            9.0             Divorced   \n",
      "22110   25       Private       Bachelors           13.0        Never-married   \n",
      "15534   54       Private         HS-grad            9.0              Widowed   \n",
      "13497   25     Local-gov       Bachelors           13.0        Never-married   \n",
      "5937    42   Federal-gov         Masters           14.0        Never-married   \n",
      "\n",
      "               occupation    relationship    race      sex  capital-gain  \\\n",
      "18689   Machine-op-inspct         Husband   White     Male           0.0   \n",
      "21419   Handlers-cleaners       Own-child   White     Male           0.0   \n",
      "19024        Adm-clerical       Own-child   White   Female           0.0   \n",
      "42793        Craft-repair       Own-child   White     Male           0.0   \n",
      "7241         Adm-clerical   Not-in-family   White   Female           0.0   \n",
      "...                   ...             ...     ...      ...           ...   \n",
      "3231        Other-service       Unmarried   White   Female           0.0   \n",
      "22110               Sales   Not-in-family   White     Male        3325.0   \n",
      "15534       Other-service   Not-in-family   White   Female           0.0   \n",
      "13497     Exec-managerial   Not-in-family   White   Female           0.0   \n",
      "5937      Exec-managerial   Not-in-family   White   Female       14084.0   \n",
      "\n",
      "       capital-loss  hours-per-week  native-country  \n",
      "18689           0.0            60.0   United-States  \n",
      "21419           0.0            28.0   United-States  \n",
      "19024           0.0            40.0   United-States  \n",
      "42793           0.0            40.0   United-States  \n",
      "7241            0.0            30.0   United-States  \n",
      "...             ...             ...             ...  \n",
      "3231            0.0            40.0   United-States  \n",
      "22110           0.0            40.0   United-States  \n",
      "15534           0.0            15.0   United-States  \n",
      "13497           0.0            20.0   United-States  \n",
      "5937            0.0            60.0   United-States  \n",
      "\n",
      "[13567 rows x 13 columns]\n"
     ]
    }
   ],
   "source": [
    "print(X_test)"
   ]
  },
  {
   "cell_type": "code",
   "execution_count": 20,
   "metadata": {},
   "outputs": [
    {
     "name": "stdout",
     "output_type": "stream",
     "text": [
      "INFO:tensorflow:Calling model_fn.\n",
      "WARNING:tensorflow:Layer linear/linear_model is casting an input tensor from dtype float64 to the layer's dtype of float32, which is new behavior in TensorFlow 2.  The layer has dtype float32 because it's dtype defaults to floatx.\n",
      "\n",
      "If you intended to run this layer in float32, you can safely ignore this warning. If in doubt, this warning is likely only an issue if you are porting a TensorFlow 1.X model to TensorFlow 2.\n",
      "\n",
      "To change all layers to have dtype float64 by default, call `tf.keras.backend.set_floatx('float64')`. To change just this layer, pass dtype='float64' to the layer constructor. If you are the author of this layer, you can disable autocasting by passing autocast=False to the base Layer constructor.\n",
      "\n",
      "INFO:tensorflow:Done calling model_fn.\n",
      "INFO:tensorflow:Graph was finalized.\n",
      "INFO:tensorflow:Restoring parameters from /var/folders/zp/6m6hk6h94s55z0fscw1_wlp40000gp/T/tmp3l395hyt/model.ckpt-5000\n",
      "INFO:tensorflow:Running local_init_op.\n",
      "INFO:tensorflow:Done running local_init_op.\n"
     ]
    }
   ],
   "source": [
    "predictions = list(model.predict(input_fn = pred_fn))"
   ]
  },
  {
   "cell_type": "code",
   "execution_count": 21,
   "metadata": {},
   "outputs": [
    {
     "data": {
      "text/plain": [
       "{'logits': array([21.625053], dtype=float32),\n",
       " 'logistic': array([1.], dtype=float32),\n",
       " 'probabilities': array([4.0584353e-10, 1.0000000e+00], dtype=float32),\n",
       " 'class_ids': array([1]),\n",
       " 'classes': array([b'1'], dtype=object),\n",
       " 'all_class_ids': array([0, 1], dtype=int32),\n",
       " 'all_classes': array([b'0', b'1'], dtype=object)}"
      ]
     },
     "execution_count": 21,
     "metadata": {},
     "output_type": "execute_result"
    }
   ],
   "source": [
    "predictions[0]"
   ]
  },
  {
   "cell_type": "code",
   "execution_count": 22,
   "metadata": {},
   "outputs": [],
   "source": [
    "final_preds = []\n",
    "for pred in predictions:\n",
    "    final_preds.append(pred['class_ids'][0])"
   ]
  },
  {
   "cell_type": "code",
   "execution_count": 23,
   "metadata": {},
   "outputs": [
    {
     "data": {
      "text/plain": [
       "[1, 1, 1, 1, 1, 1, 1, 1, 1, 1, 1, 1, 1, 1, 1, 1, 1, 1, 1, 1]"
      ]
     },
     "execution_count": 23,
     "metadata": {},
     "output_type": "execute_result"
    }
   ],
   "source": [
    "final_preds[:20]"
   ]
  },
  {
   "cell_type": "code",
   "execution_count": 24,
   "metadata": {},
   "outputs": [
    {
     "name": "stdout",
     "output_type": "stream",
     "text": [
      "              precision    recall  f1-score   support\n",
      "\n",
      "           1       1.00      1.00      1.00     13567\n",
      "\n",
      "    accuracy                           1.00     13567\n",
      "   macro avg       1.00      1.00      1.00     13567\n",
      "weighted avg       1.00      1.00      1.00     13567\n",
      "\n"
     ]
    }
   ],
   "source": [
    "print(classification_report(y_test, final_preds))"
   ]
  },
  {
   "cell_type": "code",
   "execution_count": 26,
   "metadata": {},
   "outputs": [],
   "source": [
    "from xgboost import XGBClassifier"
   ]
  },
  {
   "cell_type": "code",
   "execution_count": 28,
   "metadata": {},
   "outputs": [
    {
     "ename": "ValueError",
     "evalue": "DataFrame.dtypes for data must be int, float or bool.\n                Did not expect the data types in fields workclass, education_level, marital-status, occupation, relationship, race, sex, native-country",
     "output_type": "error",
     "traceback": [
      "\u001b[0;31m---------------------------------------------------------------------------\u001b[0m",
      "\u001b[0;31mValueError\u001b[0m                                Traceback (most recent call last)",
      "\u001b[0;32m<ipython-input-28-cb2bb4a29c12>\u001b[0m in \u001b[0;36m<module>\u001b[0;34m\u001b[0m\n\u001b[1;32m      1\u001b[0m \u001b[0mxgb\u001b[0m \u001b[0;34m=\u001b[0m \u001b[0mXGBClassifier\u001b[0m\u001b[0;34m(\u001b[0m\u001b[0;34m)\u001b[0m\u001b[0;34m\u001b[0m\u001b[0;34m\u001b[0m\u001b[0m\n\u001b[0;32m----> 2\u001b[0;31m \u001b[0mxgb\u001b[0m\u001b[0;34m.\u001b[0m\u001b[0mfit\u001b[0m\u001b[0;34m(\u001b[0m\u001b[0mX_train\u001b[0m\u001b[0;34m,\u001b[0m \u001b[0my_train\u001b[0m\u001b[0;34m)\u001b[0m\u001b[0;34m\u001b[0m\u001b[0;34m\u001b[0m\u001b[0m\n\u001b[0m",
      "\u001b[0;32m~/opt/anaconda3/lib/python3.7/site-packages/xgboost/sklearn.py\u001b[0m in \u001b[0;36mfit\u001b[0;34m(self, X, y, sample_weight, eval_set, eval_metric, early_stopping_rounds, verbose, xgb_model, sample_weight_eval_set, callbacks)\u001b[0m\n\u001b[1;32m    724\u001b[0m         \u001b[0;32melse\u001b[0m\u001b[0;34m:\u001b[0m\u001b[0;34m\u001b[0m\u001b[0;34m\u001b[0m\u001b[0m\n\u001b[1;32m    725\u001b[0m             train_dmatrix = DMatrix(X, label=training_labels,\n\u001b[0;32m--> 726\u001b[0;31m                                     missing=self.missing, nthread=self.n_jobs)\n\u001b[0m\u001b[1;32m    727\u001b[0m \u001b[0;34m\u001b[0m\u001b[0m\n\u001b[1;32m    728\u001b[0m         self._Booster = train(xgb_options, train_dmatrix, self.get_num_boosting_rounds(),\n",
      "\u001b[0;32m~/opt/anaconda3/lib/python3.7/site-packages/xgboost/core.py\u001b[0m in \u001b[0;36m__init__\u001b[0;34m(self, data, label, missing, weight, silent, feature_names, feature_types, nthread)\u001b[0m\n\u001b[1;32m    378\u001b[0m         data, feature_names, feature_types = _maybe_pandas_data(data,\n\u001b[1;32m    379\u001b[0m                                                                 \u001b[0mfeature_names\u001b[0m\u001b[0;34m,\u001b[0m\u001b[0;34m\u001b[0m\u001b[0;34m\u001b[0m\u001b[0m\n\u001b[0;32m--> 380\u001b[0;31m                                                                 feature_types)\n\u001b[0m\u001b[1;32m    381\u001b[0m \u001b[0;34m\u001b[0m\u001b[0m\n\u001b[1;32m    382\u001b[0m         data, feature_names, feature_types = _maybe_dt_data(data,\n",
      "\u001b[0;32m~/opt/anaconda3/lib/python3.7/site-packages/xgboost/core.py\u001b[0m in \u001b[0;36m_maybe_pandas_data\u001b[0;34m(data, feature_names, feature_types)\u001b[0m\n\u001b[1;32m    237\u001b[0m         msg = \"\"\"DataFrame.dtypes for data must be int, float or bool.\n\u001b[1;32m    238\u001b[0m                 Did not expect the data types in fields \"\"\"\n\u001b[0;32m--> 239\u001b[0;31m         \u001b[0;32mraise\u001b[0m \u001b[0mValueError\u001b[0m\u001b[0;34m(\u001b[0m\u001b[0mmsg\u001b[0m \u001b[0;34m+\u001b[0m \u001b[0;34m', '\u001b[0m\u001b[0;34m.\u001b[0m\u001b[0mjoin\u001b[0m\u001b[0;34m(\u001b[0m\u001b[0mbad_fields\u001b[0m\u001b[0;34m)\u001b[0m\u001b[0;34m)\u001b[0m\u001b[0;34m\u001b[0m\u001b[0;34m\u001b[0m\u001b[0m\n\u001b[0m\u001b[1;32m    240\u001b[0m \u001b[0;34m\u001b[0m\u001b[0m\n\u001b[1;32m    241\u001b[0m     \u001b[0;32mif\u001b[0m \u001b[0mfeature_names\u001b[0m \u001b[0;32mis\u001b[0m \u001b[0;32mNone\u001b[0m\u001b[0;34m:\u001b[0m\u001b[0;34m\u001b[0m\u001b[0;34m\u001b[0m\u001b[0m\n",
      "\u001b[0;31mValueError\u001b[0m: DataFrame.dtypes for data must be int, float or bool.\n                Did not expect the data types in fields workclass, education_level, marital-status, occupation, relationship, race, sex, native-country"
     ]
    }
   ],
   "source": [
    "xgb = XGBClassifier()\n",
    "xgb.fit(X_train, y_train)"
   ]
  },
  {
   "cell_type": "code",
   "execution_count": null,
   "metadata": {},
   "outputs": [],
   "source": [
    "workclass = pd.get_dummies(data)"
   ]
  }
 ],
 "metadata": {
  "kernelspec": {
   "display_name": "Python 3",
   "language": "python",
   "name": "python3"
  },
  "language_info": {
   "codemirror_mode": {
    "name": "ipython",
    "version": 3
   },
   "file_extension": ".py",
   "mimetype": "text/x-python",
   "name": "python",
   "nbconvert_exporter": "python",
   "pygments_lexer": "ipython3",
   "version": "3.7.4"
  }
 },
 "nbformat": 4,
 "nbformat_minor": 4
}
